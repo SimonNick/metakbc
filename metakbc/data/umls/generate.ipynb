{
 "cells": [
  {
   "cell_type": "code",
   "execution_count": 1,
   "metadata": {},
   "outputs": [],
   "source": [
    "import numpy as np\n",
    "from itertools import permutations\n",
    "from collections import defaultdict\n",
    "import random"
   ]
  },
  {
   "cell_type": "markdown",
   "metadata": {},
   "source": [
    "# load and parse dataset"
   ]
  },
  {
   "cell_type": "code",
   "execution_count": 2,
   "metadata": {
    "tags": []
   },
   "outputs": [
    {
     "output_type": "stream",
     "name": "stdout",
     "text": "nations: text/plain; charset=us-ascii\n"
    }
   ],
   "source": [
    "!file umls -I"
   ]
  },
  {
   "cell_type": "code",
   "execution_count": 2,
   "metadata": {},
   "outputs": [],
   "source": [
    "raw_data = []\n",
    "\n",
    "entities = set()\n",
    "with open('umls', 'r') as to_read:\n",
    "    for i, line in enumerate(to_read.readlines()):\n",
    "        s, p, o = line.strip().split(' ')\n",
    "        entities.add(s)\n",
    "        entities.add(o)\n",
    "        raw_data += [(s,p,o)]"
   ]
  },
  {
   "cell_type": "code",
   "execution_count": 3,
   "metadata": {},
   "outputs": [],
   "source": [
    "A_implies_B_rules = [\n",
    "    # body: head\n",
    "    ('Process_of', 'Affects')\n",
    "]\n",
    "\n",
    "transitive_rules = ['Isa', 'Interacts_with']\n",
    "\n",
    "#java -jar /Users/simon/Office/Dokumente/Uni/Data\\ Science\\ and\\ Machine\\ Learning\\ Master/Masters\\ Project/Libraries/amie-dev.jar -d \" \" -minc 1 -minpca 1 -mins 300 -maxad 3 umls\n",
    "\n",
    "#java -jar /Users/simon/Office/Dokumente/Uni/Data\\ Science\\ and\\ Machine\\ Learning\\ Master/Masters\\ Project/Libraries/amie-dev.jar -d \" \" -minc 1 -minpca 1 -mins 100 -maxad 2 umls\n",
    "\n",
    "#java -jar /Users/simon/Office/Dokumente/Uni/Data\\ Science\\ and\\ Machine\\ Learning\\ Master/Masters\\ Project/Libraries/amie-dev.jar -d \" \" -minc 1 -minpca 1 -mins 30 -maxad 3 nations | grep '?h  ?h'\n",
    "\n",
    "#java -jar /Users/simon/Office/Dokumente/Uni/Data\\ Science\\ and\\ Machine\\ Learning\\ Master/Masters\\ Project/Libraries/amie-dev.jar -d \" \" -minc 1 -minpca 1 -mins 40 -maxad 2 nations | grep '?b   =>'"
   ]
  },
  {
   "cell_type": "code",
   "execution_count": 5,
   "metadata": {
    "tags": []
   },
   "outputs": [],
   "source": [
    "train = set()\n",
    "valid = set()\n",
    "test = set()\n",
    "entities = set()\n",
    "\n",
    "A_implies_B_rule_examples = defaultdict(lambda: [])\n",
    "transitive_rule_examples = defaultdict(lambda: [])\n",
    "\n",
    "counter_A_implies_B_rules = defaultdict(lambda: 0)\n",
    "counter_transitive_rules = defaultdict(lambda: 0)\n",
    "\n",
    "for s,p,o in raw_data:\n",
    "    entities.add(s)\n",
    "    entities.add(o)\n",
    "\n",
    "for x1, x2 in permutations(entities, 2):\n",
    "    for (A, B) in A_implies_B_rules:\n",
    "        if (x1, A, x2) in raw_data and (x1, B, x2) in raw_data:\n",
    "            valid.add((x1, B, x2))\n",
    "            A_implies_B_rule_examples[(A, B)] += [(x1, x2)]\n",
    "            counter_A_implies_B_rules[(A, B)] += 1\n",
    "\n",
    "triples = [triple for triple in raw_data if triple[1] in transitive_rules]\n",
    "\n",
    "for (x1, t, x2) in triples:\n",
    "    for x3 in entities:\n",
    "        if (x1, t, x2) in raw_data and (x2, t, x3) in raw_data and (x1, t, x3) in raw_data:\n",
    "            valid.add((x1, C, x3))\n",
    "            A_B_implies_C_rule_examples[(A, B, C)] += [(x1, x2, x3)]\n",
    "            counter_A_B_implies_C_rules[(A, B, C)] += 1\n",
    "\n",
    "for s,p,o in raw_data:\n",
    "    if (s,p,o) not in valid:\n",
    "        train.add((s,p,o))"
   ]
  },
  {
   "cell_type": "code",
   "execution_count": 6,
   "metadata": {},
   "outputs": [],
   "source": [
    "train = list(train)\n",
    "valid = list(valid)\n",
    "random.Random(42).shuffle(valid)\n",
    "valid, test = valid[:len(valid) // 2], valid[len(valid) // 2:]"
   ]
  },
  {
   "cell_type": "code",
   "execution_count": 7,
   "metadata": {
    "tags": []
   },
   "outputs": [
    {
     "output_type": "stream",
     "name": "stdout",
     "text": "1759\n132\n133\n"
    }
   ],
   "source": [
    "print(len(train))\n",
    "print(len(valid))\n",
    "print(len(test))"
   ]
  },
  {
   "cell_type": "markdown",
   "metadata": {},
   "source": [
    "# check that splits are mutually exclusive"
   ]
  },
  {
   "cell_type": "code",
   "execution_count": 8,
   "metadata": {},
   "outputs": [],
   "source": [
    "for triple in train:\n",
    "    if triple in valid:\n",
    "        print(\"valid\", triple)\n",
    "    if triple in test:\n",
    "        print(\"valid\", triple)"
   ]
  },
  {
   "cell_type": "code",
   "execution_count": 9,
   "metadata": {},
   "outputs": [],
   "source": [
    "for triple in valid:\n",
    "    if triple in train:\n",
    "        print(\"train\", triple)\n",
    "    if triple in test:\n",
    "        print(\"test\", triple)"
   ]
  },
  {
   "cell_type": "code",
   "execution_count": 10,
   "metadata": {},
   "outputs": [],
   "source": [
    "for triple in test:\n",
    "    if triple in train:\n",
    "        print(\"train\", triple)\n",
    "    if triple in valid:\n",
    "        print(\"valid\", triple)"
   ]
  },
  {
   "cell_type": "markdown",
   "metadata": {},
   "source": [
    "# save splits as .tsv"
   ]
  },
  {
   "cell_type": "code",
   "execution_count": 11,
   "metadata": {},
   "outputs": [],
   "source": [
    "with open(\"train.tsv\", \"w\", encoding='utf-8') as f:\n",
    "    for triple in train:\n",
    "        f.write(\"{}\\t{}\\t{}\\n\".format(*triple))"
   ]
  },
  {
   "cell_type": "code",
   "execution_count": 12,
   "metadata": {},
   "outputs": [],
   "source": [
    "with open(\"valid.tsv\", \"w\", encoding='utf-8') as f:\n",
    "    for triple in valid:\n",
    "        f.write(\"{}\\t{}\\t{}\\n\".format(*triple))"
   ]
  },
  {
   "cell_type": "code",
   "execution_count": 13,
   "metadata": {},
   "outputs": [],
   "source": [
    "with open(\"test.tsv\", \"w\", encoding='utf-8') as f:\n",
    "    for triple in test:\n",
    "        f.write(\"{}\\t{}\\t{}\\n\".format(*triple))"
   ]
  },
  {
   "cell_type": "code",
   "execution_count": 14,
   "metadata": {},
   "outputs": [],
   "source": [
    "for (A, B), examples in A_implies_B_rule_examples.items():\n",
    "    with open(\"{}=>{}.tsv\".format(A,B), \"w\", encoding='utf-8') as f:\n",
    "        for (x1, x2) in examples:\n",
    "            f.write(\"{}\\t{}\\t{}\\n\".format(x1, B, x2))\n",
    "\n",
    "for (A, B, C), examples in A_B_implies_C_rule_examples.items():\n",
    "    with open(\"{},{}=>{}.tsv\".format(A,B,C), \"w\", encoding='utf-8') as f:\n",
    "        for (x1, x2, x3) in examples:\n",
    "            f.write(\"{}\\t{}\\t{}\\n\".format(x1, C, x3))"
   ]
  }
 ],
 "metadata": {
  "language_info": {
   "codemirror_mode": {
    "name": "ipython",
    "version": 3
   },
   "file_extension": ".py",
   "mimetype": "text/x-python",
   "name": "python",
   "nbconvert_exporter": "python",
   "pygments_lexer": "ipython3",
   "version": "3.6.8-final"
  },
  "orig_nbformat": 2,
  "kernelspec": {
   "name": "python36864bit277cdecdadcc4196a67241552660cd03",
   "display_name": "Python 3.6.8 64-bit"
  }
 },
 "nbformat": 4,
 "nbformat_minor": 2
}