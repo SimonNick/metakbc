{
 "cells": [
  {
   "cell_type": "code",
   "execution_count": 1,
   "metadata": {},
   "outputs": [],
   "source": [
    "import numpy as np\n",
    "from itertools import permutations\n",
    "from collections import defaultdict\n",
    "import random"
   ]
  },
  {
   "cell_type": "markdown",
   "metadata": {},
   "source": [
    "# load and parse dataset"
   ]
  },
  {
   "cell_type": "code",
   "execution_count": 2,
   "metadata": {
    "tags": []
   },
   "outputs": [
    {
     "output_type": "stream",
     "name": "stdout",
     "text": "kinships: text/plain; charset=us-ascii\n"
    }
   ],
   "source": [
    "!file kinships -I"
   ]
  },
  {
   "cell_type": "code",
   "execution_count": 3,
   "metadata": {},
   "outputs": [],
   "source": [
    "raw_data = []\n",
    "\n",
    "entities = set()\n",
    "with open('kinships', 'r') as to_read:\n",
    "    for i, line in enumerate(to_read.readlines()):\n",
    "        s, p, o = line.strip().split(' ')\n",
    "        entities.add(s)\n",
    "        entities.add(o)\n",
    "        raw_data += [(s,p,o)]"
   ]
  },
  {
   "cell_type": "code",
   "execution_count": 4,
   "metadata": {},
   "outputs": [],
   "source": [
    "A_implies_A_rules = [\n",
    "    ('term18',),\n",
    "]\n",
    "\n",
    "# term5(x1, x2) => term15(x2, x1)\n",
    "A_implies_B_rules = [\n",
    "    ('term5', 'term15'),\n",
    "]\n",
    "\n",
    "A_B_implies_C_rules = [\n",
    "    ('term2', 'term22', 'term15'),\n",
    "]\n",
    "\n",
    "#java -jar /Users/simon/Office/Dokumente/Uni/Data\\ Science\\ and\\ Machine\\ Learning\\ Master/Masters\\ Project/Libraries/amie-dev.jar -d \" \" -minc 0.8 -mins 450 -maxad 2 kinships\n",
    "\n",
    "#java -jar /Users/simon/Office/Dokumente/Uni/Data\\ Science\\ and\\ Machine\\ Learning\\ Master/Masters\\ Project/Libraries/amie-dev.jar -d \" \" -minc 0.8 -mins 30 -maxad 3 kinships | grep '?h  ?h'"
   ]
  },
  {
   "cell_type": "code",
   "execution_count": 5,
   "metadata": {
    "tags": []
   },
   "outputs": [],
   "source": [
    "train = set()\n",
    "valid = set()\n",
    "test = set()\n",
    "entities = set()\n",
    "\n",
    "A_implies_A_rule_examples = defaultdict(lambda: [])\n",
    "A_implies_B_rule_examples = defaultdict(lambda: [])\n",
    "A_B_implies_C_rule_examples = defaultdict(lambda: [])\n",
    "\n",
    "counter_A_implies_A_rules = defaultdict(lambda: 0)\n",
    "counter_A_implies_B_rules = defaultdict(lambda: 0)\n",
    "counter_A_B_implies_C_rules = defaultdict(lambda: 0)\n",
    "\n",
    "for s,p,o in raw_data:\n",
    "    entities.add(s)\n",
    "    entities.add(o)\n",
    "\n",
    "for x1, x2 in permutations(entities, 2):\n",
    "    for (A,) in A_implies_A_rules:\n",
    "        if (x1, A, x2) in raw_data and (x2, A, x1) in raw_data:\n",
    "            valid.add((x2, A, x1))\n",
    "            A_implies_A_rule_examples[(A,)] += [(x1, x2)]\n",
    "            counter_A_implies_A_rules[(A,)] += 1\n",
    "\n",
    "for x1, x2 in permutations(entities, 2):\n",
    "    for (A, B) in A_implies_B_rules:\n",
    "        if (x1, A, x2) in raw_data and (x2, B, x1) in raw_data:\n",
    "            valid.add((x2, B, x1))\n",
    "            A_implies_B_rule_examples[(A, B)] += [(x1, x2)]\n",
    "            counter_A_implies_B_rules[(A, B)] += 1\n",
    "\n",
    "for x1, x2, x3 in permutations(entities, 3):\n",
    "    for (A, B, C) in A_B_implies_C_rules:    \n",
    "        if (x1, A, x2) in raw_data and (x2, B, x3) in raw_data and (x1, C, x3) in raw_data:\n",
    "            valid.add((x1, C, x3))\n",
    "            A_B_implies_C_rule_examples[(A, B, C)] += [(x1, x2, x3)]\n",
    "            counter_A_B_implies_C_rules[(A, B, C)] += 1\n",
    "\n",
    "for s,p,o in raw_data:\n",
    "    if (s,p,o) not in valid:\n",
    "        train.add((s,p,o))"
   ]
  },
  {
   "cell_type": "code",
   "execution_count": 6,
   "metadata": {},
   "outputs": [],
   "source": [
    "train = list(train)\n",
    "valid = list(valid)\n",
    "random.Random(42).shuffle(valid)\n",
    "valid, test = valid[:len(valid) // 2], valid[len(valid) // 2:]"
   ]
  },
  {
   "cell_type": "code",
   "execution_count": 7,
   "metadata": {
    "tags": []
   },
   "outputs": [
    {
     "output_type": "stream",
     "name": "stdout",
     "text": "9582\n552\n552\n"
    }
   ],
   "source": [
    "print(len(train))\n",
    "print(len(valid))\n",
    "print(len(test))"
   ]
  },
  {
   "cell_type": "markdown",
   "metadata": {},
   "source": [
    "# check that splits are mutually exclusive"
   ]
  },
  {
   "cell_type": "code",
   "execution_count": 8,
   "metadata": {},
   "outputs": [],
   "source": [
    "for triple in train:\n",
    "    if triple in valid:\n",
    "        print(\"valid\", triple)\n",
    "    if triple in test:\n",
    "        print(\"valid\", triple)"
   ]
  },
  {
   "cell_type": "code",
   "execution_count": 9,
   "metadata": {},
   "outputs": [],
   "source": [
    "for triple in valid:\n",
    "    if triple in train:\n",
    "        print(\"train\", triple)\n",
    "    if triple in test:\n",
    "        print(\"test\", triple)"
   ]
  },
  {
   "cell_type": "code",
   "execution_count": 10,
   "metadata": {},
   "outputs": [],
   "source": [
    "for triple in test:\n",
    "    if triple in train:\n",
    "        print(\"train\", triple)\n",
    "    if triple in valid:\n",
    "        print(\"valid\", triple)"
   ]
  },
  {
   "cell_type": "markdown",
   "metadata": {},
   "source": [
    "# save splits as .tsv"
   ]
  },
  {
   "cell_type": "code",
   "execution_count": 11,
   "metadata": {},
   "outputs": [],
   "source": [
    "with open(\"train.tsv\", \"w\", encoding='utf-8') as f:\n",
    "    for triple in train:\n",
    "        f.write(\"{}\\t{}\\t{}\\n\".format(*triple))"
   ]
  },
  {
   "cell_type": "code",
   "execution_count": 12,
   "metadata": {},
   "outputs": [],
   "source": [
    "with open(\"valid.tsv\", \"w\", encoding='utf-8') as f:\n",
    "    for triple in valid:\n",
    "        f.write(\"{}\\t{}\\t{}\\n\".format(*triple))"
   ]
  },
  {
   "cell_type": "code",
   "execution_count": 13,
   "metadata": {},
   "outputs": [],
   "source": [
    "with open(\"test.tsv\", \"w\", encoding='utf-8') as f:\n",
    "    for triple in test:\n",
    "        f.write(\"{}\\t{}\\t{}\\n\".format(*triple))"
   ]
  },
  {
   "cell_type": "code",
   "execution_count": 14,
   "metadata": {},
   "outputs": [],
   "source": [
    "for (A,), examples in A_implies_A_rule_examples.items():\n",
    "    with open(\"{}=>{}.tsv\".format(A,A), \"w\", encoding='utf-8') as f:\n",
    "        for (x1, x2) in examples:\n",
    "            f.write(\"{}\\t{}\\t{}\\n\".format(x2, A, x1))\n",
    "\n",
    "for (A, B), examples in A_implies_B_rule_examples.items():\n",
    "    with open(\"{}=>{}.tsv\".format(A,B), \"w\", encoding='utf-8') as f:\n",
    "        for (x1, x2) in examples:\n",
    "            f.write(\"{}\\t{}\\t{}\\n\".format(x2, B, x1))\n",
    "\n",
    "for (A, B, C), examples in A_B_implies_C_rule_examples.items():\n",
    "    with open(\"{},{}=>{}.tsv\".format(A,B,C), \"w\", encoding='utf-8') as f:\n",
    "        for (x1, x2, x3) in examples:\n",
    "            f.write(\"{}\\t{}\\t{}\\n\".format(x1, C, x3))"
   ]
  },
  {
   "cell_type": "code",
   "execution_count": null,
   "metadata": {},
   "outputs": [],
   "source": []
  }
 ],
 "metadata": {
  "language_info": {
   "codemirror_mode": {
    "name": "ipython",
    "version": 3
   },
   "file_extension": ".py",
   "mimetype": "text/x-python",
   "name": "python",
   "nbconvert_exporter": "python",
   "pygments_lexer": "ipython3",
   "version": "3.6.8-final"
  },
  "orig_nbformat": 2,
  "kernelspec": {
   "name": "python36864bit277cdecdadcc4196a67241552660cd03",
   "display_name": "Python 3.6.8 64-bit"
  }
 },
 "nbformat": 4,
 "nbformat_minor": 2
}