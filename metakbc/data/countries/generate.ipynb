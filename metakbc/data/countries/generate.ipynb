{
 "cells": [
  {
   "cell_type": "code",
   "execution_count": 1,
   "metadata": {},
   "outputs": [],
   "source": [
    "import numpy as np\n",
    "import json"
   ]
  },
  {
   "cell_type": "markdown",
   "metadata": {},
   "source": [
    "# load and parse dataset"
   ]
  },
  {
   "cell_type": "code",
   "execution_count": 2,
   "metadata": {
    "tags": []
   },
   "outputs": [
    {
     "output_type": "stream",
     "name": "stdout",
     "text": "countries.json: text/plain; charset=utf-8\n"
    }
   ],
   "source": [
    "!file countries.json -I"
   ]
  },
  {
   "cell_type": "code",
   "execution_count": 3,
   "metadata": {},
   "outputs": [],
   "source": [
    "with open('countries.json', encoding='utf-8') as f:\n",
    "    raw_data = json.load(f)"
   ]
  },
  {
   "cell_type": "code",
   "execution_count": 4,
   "metadata": {
    "tags": []
   },
   "outputs": [
    {
     "output_type": "stream",
     "name": "stdout",
     "text": "skipping Antarctica\nskipping Territory of the French Southern and Antarctic Lands\nskipping Bouvet Island\nskipping Heard Island and McDonald Islands\nskipping Macao Special Administrative Region of the People's Republic of China\nskipping United States Minor Outlying Islands\n"
    }
   ],
   "source": [
    "countries = []\n",
    "cca3_codes_to_country = dict()\n",
    "for country in raw_data:\n",
    "    name = country['name']['official']\n",
    "    cca3_codes_to_country[country['cca3']] = name\n",
    "\n",
    "for country in raw_data:\n",
    "    name = country['name']['official']\n",
    "    capital = country['capital']\n",
    "    region = country['region']\n",
    "    subregion = country['subregion']\n",
    "    neighbors = [cca3_codes_to_country[cca3_code] for cca3_code in country['borders']]\n",
    "\n",
    "    if len(name) == 0 or len(capital) == 0 or len(region) == 0 or len(subregion) == 0:\n",
    "        print(\"skipping\", name)\n",
    "        continue\n",
    "    \n",
    "    countries += [{'name': name, 'capital': capital, 'subregion': subregion, 'region': region, 'neighbors': neighbors}]"
   ]
  },
  {
   "cell_type": "code",
   "execution_count": 5,
   "metadata": {
    "tags": []
   },
   "outputs": [
    {
     "output_type": "execute_result",
     "data": {
      "text/plain": "{'name': 'Republic of Albania',\n 'capital': 'Tirana',\n 'subregion': 'Southern Europe',\n 'region': 'Europe',\n 'neighbors': ['Montenegro',\n  'Hellenic Republic',\n  'Republic of Macedonia',\n  'Republic of Kosovo']}"
     },
     "metadata": {},
     "execution_count": 5
    }
   ],
   "source": [
    "countries[5]"
   ]
  },
  {
   "cell_type": "markdown",
   "metadata": {},
   "source": [
    "# generate splits"
   ]
  },
  {
   "cell_type": "code",
   "execution_count": 6,
   "metadata": {},
   "outputs": [],
   "source": [
    "train = set()\n",
    "valid = set()\n",
    "test = set()"
   ]
  },
  {
   "cell_type": "code",
   "execution_count": 7,
   "metadata": {},
   "outputs": [],
   "source": [
    "import random\n",
    "random.Random(42).shuffle(countries)"
   ]
  },
  {
   "cell_type": "code",
   "execution_count": 8,
   "metadata": {},
   "outputs": [],
   "source": [
    "n_countries = len(countries)\n",
    "processed_countries = set()\n",
    "\n",
    "for i, country in enumerate(countries):\n",
    "    train.add((country['name'], 'located_in', country['subregion']))\n",
    "    train.add((country['subregion'], 'located_in', country['region']))\n",
    "\n",
    "    processed_countries.add(country['name'])\n",
    "\n",
    "    for neighbor in country['neighbors']:\n",
    "        if neighbor not in processed_countries:\n",
    "\n",
    "            train.add((country['name'], 'is_neighbor_of', neighbor))\n",
    "\n",
    "            if i < n_countries / 2:\n",
    "                valid.add((neighbor, 'is_neighbor_of', country['name']))\n",
    "            else:\n",
    "                test.add((neighbor, 'is_neighbor_of', country['name']))\n",
    "\n",
    "    if i < n_countries / 2:\n",
    "        valid.add((country['name'], 'located_in', country['region']))\n",
    "    else:\n",
    "        test.add((country['name'], 'located_in', country['region']))"
   ]
  },
  {
   "cell_type": "code",
   "execution_count": 9,
   "metadata": {
    "tags": []
   },
   "outputs": [
    {
     "output_type": "execute_result",
     "data": {
      "text/plain": "[('Republic of Austria', 'is_neighbor_of', 'Federal Republic of Germany'),\n ('Islamic Republic of Iran', 'is_neighbor_of', 'Republic of Azerbaijan'),\n ('Republic of Mozambique', 'is_neighbor_of', 'Republic of South Africa'),\n ('Hashemite Kingdom of Jordan', 'is_neighbor_of', 'Kingdom of Saudi Arabia'),\n ('Dominican Republic', 'located_in', 'Caribbean'),\n (\"Hong Kong Special Administrative Region of the People's Republic of China\",\n  'is_neighbor_of',\n  \"People's Republic of China\"),\n ('Republic of India', 'is_neighbor_of', 'Islamic Republic of Afghanistan'),\n ('Central Europe', 'located_in', 'Europe'),\n ('Netherlands', 'is_neighbor_of', 'Federal Republic of Germany'),\n ('Republic of Belarus', 'located_in', 'Eastern Europe'),\n ('Republic of Slovenia', 'is_neighbor_of', 'Republic of Croatia'),\n ('Republic of Nicaragua', 'located_in', 'Central America'),\n ('Republic of Malawi', 'located_in', 'Eastern Africa'),\n ('Kingdom of Thailand', 'is_neighbor_of', 'Kingdom of Cambodia'),\n ('Romania', 'located_in', 'Eastern Europe'),\n ('Republic of Uzbekistan', 'located_in', 'Central Asia'),\n ('Republic of China (Taiwan)', 'located_in', 'Eastern Asia'),\n ('Mongolia', 'is_neighbor_of', \"People's Republic of China\"),\n ('Republic of Paraguay', 'is_neighbor_of', 'Argentine Republic'),\n ('United States of America', 'located_in', 'Northern America'),\n ('State of Qatar', 'located_in', 'Western Asia'),\n ('Northern Europe', 'located_in', 'Europe'),\n ('Republic of Botswana', 'is_neighbor_of', 'Republic of South Africa'),\n ('Republic of Botswana', 'is_neighbor_of', 'Republic of Namibia'),\n ('Republic of Austria', 'is_neighbor_of', 'Italian Republic'),\n ('Plurinational State of Bolivia', 'located_in', 'South America'),\n (\"People's Republic of China\",\n  'is_neighbor_of',\n  'Islamic Republic of Afghanistan'),\n ('Republic of Guinea', 'is_neighbor_of', 'Republic of Guinea-Bissau'),\n ('Republic of Austria', 'is_neighbor_of', 'Swiss Confederation'),\n ('Guiana', 'is_neighbor_of', 'Republic of Suriname'),\n ('Guadeloupe', 'located_in', 'Caribbean'),\n ('Democratic Republic of Timor-Leste', 'located_in', 'South-Eastern Asia'),\n ('Republic of Burundi', 'is_neighbor_of', 'Republic of Rwanda'),\n ('Federative Republic of Brazil',\n  'is_neighbor_of',\n  'Plurinational State of Bolivia'),\n ('Aruba', 'located_in', 'Caribbean'),\n ('Central African Republic', 'is_neighbor_of', 'Republic of the Congo'),\n ('Republic of Chad', 'is_neighbor_of', 'Federal Republic of Nigeria'),\n ('Portuguese Republic', 'is_neighbor_of', 'Kingdom of Spain'),\n ('Russian Federation', 'is_neighbor_of', 'Kingdom of Norway'),\n ('Republic of Turkey', 'is_neighbor_of', 'Republic of Bulgaria'),\n ('Republic of South Sudan', 'located_in', 'Middle Africa'),\n ('Republic of Colombia', 'is_neighbor_of', 'Republic of Ecuador'),\n ('Republic of Trinidad and Tobago', 'located_in', 'Caribbean'),\n ('Republic of Poland', 'is_neighbor_of', 'Republic of Belarus'),\n ('State of Kuwait', 'is_neighbor_of', 'Kingdom of Saudi Arabia'),\n ('Republic of Ecuador', 'is_neighbor_of', 'Republic of Peru'),\n ('Central African Republic', 'is_neighbor_of', 'Republic of Cameroon'),\n ('Montenegro', 'located_in', 'Southern Europe'),\n ('Greenland', 'located_in', 'Northern America'),\n ('Federative Republic of Brazil', 'located_in', 'South America')]"
     },
     "metadata": {},
     "execution_count": 9
    }
   ],
   "source": [
    "list(train)[-50:]"
   ]
  },
  {
   "cell_type": "code",
   "execution_count": 10,
   "metadata": {
    "tags": []
   },
   "outputs": [
    {
     "output_type": "stream",
     "name": "stdout",
     "text": "589\n351\n215\n"
    }
   ],
   "source": [
    "print(len(train))\n",
    "print(len(valid))\n",
    "print(len(test))"
   ]
  },
  {
   "cell_type": "markdown",
   "metadata": {},
   "source": [
    "# check that splits are mutually exclusive"
   ]
  },
  {
   "cell_type": "code",
   "execution_count": 11,
   "metadata": {},
   "outputs": [],
   "source": [
    "for triple in train:\n",
    "    if triple in valid:\n",
    "        print(\"valid\", triple)\n",
    "    if triple in test:\n",
    "        print(\"valid\", triple)"
   ]
  },
  {
   "cell_type": "code",
   "execution_count": 12,
   "metadata": {},
   "outputs": [],
   "source": [
    "for triple in valid:\n",
    "    if triple in train:\n",
    "        print(\"train\", triple)\n",
    "    if triple in test:\n",
    "        print(\"test\", triple)"
   ]
  },
  {
   "cell_type": "code",
   "execution_count": 13,
   "metadata": {},
   "outputs": [],
   "source": [
    "for triple in test:\n",
    "    if triple in train:\n",
    "        print(\"train\", triple)\n",
    "    if triple in valid:\n",
    "        print(\"valid\", triple)"
   ]
  },
  {
   "cell_type": "markdown",
   "metadata": {},
   "source": [
    "# save splits as .tsv"
   ]
  },
  {
   "cell_type": "code",
   "execution_count": 14,
   "metadata": {},
   "outputs": [],
   "source": [
    "with open(\"train.tsv\", \"w\", encoding='utf-8') as f:\n",
    "    for triple in train:\n",
    "        f.write(\"{}\\t{}\\t{}\\n\".format(*triple))"
   ]
  },
  {
   "cell_type": "code",
   "execution_count": 15,
   "metadata": {},
   "outputs": [],
   "source": [
    "with open(\"valid.tsv\", \"w\", encoding='utf-8') as f:\n",
    "    for triple in valid:\n",
    "        f.write(\"{}\\t{}\\t{}\\n\".format(*triple))"
   ]
  },
  {
   "cell_type": "code",
   "execution_count": 16,
   "metadata": {},
   "outputs": [],
   "source": [
    "with open(\"test.tsv\", \"w\", encoding='utf-8') as f:\n",
    "    for triple in test:\n",
    "        f.write(\"{}\\t{}\\t{}\\n\".format(*triple))"
   ]
  }
 ],
 "metadata": {
  "language_info": {
   "codemirror_mode": {
    "name": "ipython",
    "version": 3
   },
   "file_extension": ".py",
   "mimetype": "text/x-python",
   "name": "python",
   "nbconvert_exporter": "python",
   "pygments_lexer": "ipython3",
   "version": "3.6.8-final"
  },
  "orig_nbformat": 2,
  "kernelspec": {
   "name": "python36864bit277cdecdadcc4196a67241552660cd03",
   "display_name": "Python 3.6.8 64-bit"
  }
 },
 "nbformat": 4,
 "nbformat_minor": 2
}